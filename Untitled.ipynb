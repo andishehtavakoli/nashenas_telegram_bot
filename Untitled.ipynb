{
 "cells": [
  {
   "cell_type": "code",
   "execution_count": 30,
   "id": "bee619ea",
   "metadata": {},
   "outputs": [],
   "source": [
    "def func1(f):\n",
    "    def func2(*args,**kwargs):\n",
    "        print(\"In the name of God\")\n",
    "        f(*args,**kwargs)\n",
    "    \n",
    "    \n",
    "    \n",
    "  \n",
    "    return func2"
   ]
  },
  {
   "cell_type": "code",
   "execution_count": 31,
   "id": "ca593625",
   "metadata": {},
   "outputs": [],
   "source": [
    "# say_hi = func1(say_hi)()"
   ]
  },
  {
   "cell_type": "code",
   "execution_count": 34,
   "id": "1e10224c",
   "metadata": {},
   "outputs": [],
   "source": [
    "@func1\n",
    "def say_hi(name):\n",
    "    print(f\"Hi:{name}\")"
   ]
  },
  {
   "cell_type": "code",
   "execution_count": 35,
   "id": "bb95f0ef",
   "metadata": {},
   "outputs": [
    {
     "name": "stdout",
     "output_type": "stream",
     "text": [
      "In the name of God\n",
      "Hi:matin\n"
     ]
    }
   ],
   "source": [
    "say_hi('matin')"
   ]
  },
  {
   "cell_type": "code",
   "execution_count": null,
   "id": "29b379b2",
   "metadata": {},
   "outputs": [],
   "source": []
  },
  {
   "cell_type": "code",
   "execution_count": null,
   "id": "08a2eff3",
   "metadata": {},
   "outputs": [],
   "source": []
  },
  {
   "cell_type": "code",
   "execution_count": 44,
   "id": "6e15e967",
   "metadata": {},
   "outputs": [],
   "source": [
    "def func1(f):\n",
    "    def func2(*args,**kwargs):\n",
    "        print(\"Hello\")\n",
    "        f(*args,**kwargs)\n",
    "        f(*args,**kwargs)\n",
    "        print(\"BY\")\n",
    "    \n",
    "    \n",
    "    return func2\n",
    "    "
   ]
  },
  {
   "cell_type": "code",
   "execution_count": 45,
   "id": "04153e15",
   "metadata": {},
   "outputs": [],
   "source": [
    "@func1\n",
    "def greeting(name):\n",
    "    print(f'How are you {name}')"
   ]
  },
  {
   "cell_type": "code",
   "execution_count": 46,
   "id": "0f3b91e8",
   "metadata": {},
   "outputs": [
    {
     "name": "stdout",
     "output_type": "stream",
     "text": [
      "Hello\n",
      "How are you Sina\n",
      "How are you Sina\n",
      "BY\n"
     ]
    }
   ],
   "source": [
    "greeting('Sina')"
   ]
  },
  {
   "cell_type": "code",
   "execution_count": 52,
   "id": "a9e8e867",
   "metadata": {},
   "outputs": [],
   "source": [
    "add1=func1(add)"
   ]
  },
  {
   "cell_type": "code",
   "execution_count": 56,
   "id": "fd101914",
   "metadata": {},
   "outputs": [
    {
     "data": {
      "text/plain": [
       "function"
      ]
     },
     "execution_count": 56,
     "metadata": {},
     "output_type": "execute_result"
    }
   ],
   "source": [
    "type(add1)"
   ]
  },
  {
   "cell_type": "code",
   "execution_count": 53,
   "id": "32274ee6",
   "metadata": {},
   "outputs": [],
   "source": [
    "@func1\n",
    "def add(a,b):\n",
    "    print(a*b)"
   ]
  },
  {
   "cell_type": "code",
   "execution_count": 55,
   "id": "e8e498c2",
   "metadata": {},
   "outputs": [
    {
     "name": "stdout",
     "output_type": "stream",
     "text": [
      "Hello\n",
      "Hello\n",
      "20\n",
      "20\n",
      "BY\n",
      "Hello\n",
      "20\n",
      "20\n",
      "BY\n",
      "BY\n"
     ]
    }
   ],
   "source": [
    "add1(4,5)"
   ]
  },
  {
   "cell_type": "code",
   "execution_count": 89,
   "id": "237838d0",
   "metadata": {},
   "outputs": [],
   "source": [
    "def twice(f):\n",
    "    def newfunc(*args,**kwargs):\n",
    "        print('Hi guys')\n",
    "        f(*args,**kwargs)\n",
    "        f(*args,**kwargs)\n",
    "        print('By guys')\n",
    "    \n",
    "    \n",
    "    return(newfunc)"
   ]
  },
  {
   "cell_type": "code",
   "execution_count": 90,
   "id": "57e608ec",
   "metadata": {},
   "outputs": [],
   "source": [
    "# @twice\n",
    "def f(name):\n",
    "    print(f\"{name}\")"
   ]
  },
  {
   "cell_type": "code",
   "execution_count": 91,
   "id": "a7e88976",
   "metadata": {},
   "outputs": [],
   "source": [
    "f=twice(f)"
   ]
  },
  {
   "cell_type": "code",
   "execution_count": 92,
   "id": "2d203d22",
   "metadata": {},
   "outputs": [
    {
     "name": "stdout",
     "output_type": "stream",
     "text": [
      "Hi guys\n",
      "Matin\n",
      "Matin\n",
      "By guys\n"
     ]
    }
   ],
   "source": [
    "f('Matin')"
   ]
  },
  {
   "cell_type": "code",
   "execution_count": 96,
   "id": "cc0c1c8b",
   "metadata": {},
   "outputs": [],
   "source": [
    "class Twice:\n",
    "    def __init__(self):\n",
    "        \n",
    "        pass\n",
    "    \n",
    "    @twice\n",
    "    def add(self,a,b):\n",
    "        print(a+b)\n",
    "       \n",
    "    \n",
    "    "
   ]
  },
  {
   "cell_type": "code",
   "execution_count": 98,
   "id": "d097a439",
   "metadata": {},
   "outputs": [],
   "source": [
    "obj=Twice()"
   ]
  },
  {
   "cell_type": "code",
   "execution_count": 99,
   "id": "7bc30c84",
   "metadata": {},
   "outputs": [
    {
     "name": "stdout",
     "output_type": "stream",
     "text": [
      "Hi guys\n",
      "15\n",
      "15\n",
      "By guys\n"
     ]
    }
   ],
   "source": [
    "obj.add(5,10)"
   ]
  },
  {
   "cell_type": "code",
   "execution_count": null,
   "id": "2d9cddd9",
   "metadata": {},
   "outputs": [],
   "source": []
  }
 ],
 "metadata": {
  "kernelspec": {
   "display_name": "Python 3 (ipykernel)",
   "language": "python",
   "name": "python3"
  },
  "language_info": {
   "codemirror_mode": {
    "name": "ipython",
    "version": 3
   },
   "file_extension": ".py",
   "mimetype": "text/x-python",
   "name": "python",
   "nbconvert_exporter": "python",
   "pygments_lexer": "ipython3",
   "version": "3.9.7"
  }
 },
 "nbformat": 4,
 "nbformat_minor": 5
}
