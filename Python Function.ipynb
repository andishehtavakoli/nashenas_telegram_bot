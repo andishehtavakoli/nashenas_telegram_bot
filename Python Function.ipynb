{
 "cells": [
  {
   "cell_type": "code",
   "execution_count": 4,
   "id": "671c0a00",
   "metadata": {},
   "outputs": [],
   "source": [
    "import numpy as np"
   ]
  },
  {
   "cell_type": "code",
   "execution_count": 5,
   "id": "7f936638",
   "metadata": {},
   "outputs": [],
   "source": [
    "def add(a,b):\n",
    "    return a+b"
   ]
  },
  {
   "cell_type": "code",
   "execution_count": 6,
   "id": "06044a89",
   "metadata": {},
   "outputs": [],
   "source": [
    "def cross(x,y):\n",
    "    return (x**2 + y**2)"
   ]
  },
  {
   "cell_type": "code",
   "execution_count": 10,
   "id": "b97ab6be",
   "metadata": {},
   "outputs": [],
   "source": [
    "def shape(x):\n",
    "    return (np.sin(2*np.pi*x))"
   ]
  },
  {
   "cell_type": "code",
   "execution_count": 13,
   "id": "0d89b304",
   "metadata": {},
   "outputs": [
    {
     "data": {
      "text/plain": [
       "-2.1558735510086122e-14"
      ]
     },
     "execution_count": 13,
     "metadata": {},
     "output_type": "execute_result"
    }
   ],
   "source": [
    "shape(30)"
   ]
  },
  {
   "cell_type": "code",
   "execution_count": 12,
   "id": "ad8d5011",
   "metadata": {},
   "outputs": [
    {
     "data": {
      "text/plain": [
       "32"
      ]
     },
     "execution_count": 12,
     "metadata": {},
     "output_type": "execute_result"
    }
   ],
   "source": [
    "# positional argument\n",
    "cross(4,4)"
   ]
  },
  {
   "cell_type": "code",
   "execution_count": 14,
   "id": "0f701a72",
   "metadata": {},
   "outputs": [
    {
     "data": {
      "text/plain": [
       "32"
      ]
     },
     "execution_count": 14,
     "metadata": {},
     "output_type": "execute_result"
    }
   ],
   "source": [
    "# keyword argument \n",
    "cross(x=4,y=4)"
   ]
  },
  {
   "cell_type": "code",
   "execution_count": 17,
   "id": "9ee70469",
   "metadata": {},
   "outputs": [],
   "source": [
    "def cross(*,x,y):\n",
    "    return (x**2 + y**2)"
   ]
  },
  {
   "cell_type": "code",
   "execution_count": 18,
   "id": "2b16f75e",
   "metadata": {},
   "outputs": [
    {
     "data": {
      "text/plain": [
       "29"
      ]
     },
     "execution_count": 18,
     "metadata": {},
     "output_type": "execute_result"
    }
   ],
   "source": [
    "cross(x=2,y=5)"
   ]
  },
  {
   "cell_type": "code",
   "execution_count": 19,
   "id": "b8cc9347",
   "metadata": {},
   "outputs": [
    {
     "ename": "TypeError",
     "evalue": "cross() takes 0 positional arguments but 2 were given",
     "output_type": "error",
     "traceback": [
      "\u001b[0;31m---------------------------------------------------------------------------\u001b[0m",
      "\u001b[0;31mTypeError\u001b[0m                                 Traceback (most recent call last)",
      "\u001b[0;32m/var/folders/rq/68kglm913gz9zwj18qwmq_000000gn/T/ipykernel_74967/2227839629.py\u001b[0m in \u001b[0;36m<module>\u001b[0;34m\u001b[0m\n\u001b[0;32m----> 1\u001b[0;31m \u001b[0mcross\u001b[0m\u001b[0;34m(\u001b[0m\u001b[0;36m3\u001b[0m\u001b[0;34m,\u001b[0m\u001b[0;36m7\u001b[0m\u001b[0;34m)\u001b[0m\u001b[0;34m\u001b[0m\u001b[0;34m\u001b[0m\u001b[0m\n\u001b[0m",
      "\u001b[0;31mTypeError\u001b[0m: cross() takes 0 positional arguments but 2 were given"
     ]
    }
   ],
   "source": [
    "cross(3,7)"
   ]
  },
  {
   "cell_type": "code",
   "execution_count": 28,
   "id": "90ee38ed",
   "metadata": {},
   "outputs": [],
   "source": [
    "def fullname(name,*,lastname):\n",
    "    return 'He is {name} {family}'.format(name=name,family=lastname)"
   ]
  },
  {
   "cell_type": "code",
   "execution_count": 29,
   "id": "28a34b75",
   "metadata": {},
   "outputs": [
    {
     "data": {
      "text/plain": [
       "'He is Matin Sajadi'"
      ]
     },
     "execution_count": 29,
     "metadata": {},
     "output_type": "execute_result"
    }
   ],
   "source": [
    "fullname(name='Matin', lastname='Sajadi')"
   ]
  },
  {
   "cell_type": "code",
   "execution_count": 30,
   "id": "40736e43",
   "metadata": {},
   "outputs": [
    {
     "data": {
      "text/plain": [
       "['__add__',\n",
       " '__class__',\n",
       " '__contains__',\n",
       " '__delattr__',\n",
       " '__dir__',\n",
       " '__doc__',\n",
       " '__eq__',\n",
       " '__format__',\n",
       " '__ge__',\n",
       " '__getattribute__',\n",
       " '__getitem__',\n",
       " '__getnewargs__',\n",
       " '__gt__',\n",
       " '__hash__',\n",
       " '__init__',\n",
       " '__init_subclass__',\n",
       " '__iter__',\n",
       " '__le__',\n",
       " '__len__',\n",
       " '__lt__',\n",
       " '__mod__',\n",
       " '__mul__',\n",
       " '__ne__',\n",
       " '__new__',\n",
       " '__reduce__',\n",
       " '__reduce_ex__',\n",
       " '__repr__',\n",
       " '__rmod__',\n",
       " '__rmul__',\n",
       " '__setattr__',\n",
       " '__sizeof__',\n",
       " '__str__',\n",
       " '__subclasshook__',\n",
       " 'capitalize',\n",
       " 'casefold',\n",
       " 'center',\n",
       " 'count',\n",
       " 'encode',\n",
       " 'endswith',\n",
       " 'expandtabs',\n",
       " 'find',\n",
       " 'format',\n",
       " 'format_map',\n",
       " 'index',\n",
       " 'isalnum',\n",
       " 'isalpha',\n",
       " 'isascii',\n",
       " 'isdecimal',\n",
       " 'isdigit',\n",
       " 'isidentifier',\n",
       " 'islower',\n",
       " 'isnumeric',\n",
       " 'isprintable',\n",
       " 'isspace',\n",
       " 'istitle',\n",
       " 'isupper',\n",
       " 'join',\n",
       " 'ljust',\n",
       " 'lower',\n",
       " 'lstrip',\n",
       " 'maketrans',\n",
       " 'partition',\n",
       " 'removeprefix',\n",
       " 'removesuffix',\n",
       " 'replace',\n",
       " 'rfind',\n",
       " 'rindex',\n",
       " 'rjust',\n",
       " 'rpartition',\n",
       " 'rsplit',\n",
       " 'rstrip',\n",
       " 'split',\n",
       " 'splitlines',\n",
       " 'startswith',\n",
       " 'strip',\n",
       " 'swapcase',\n",
       " 'title',\n",
       " 'translate',\n",
       " 'upper',\n",
       " 'zfill']"
      ]
     },
     "execution_count": 30,
     "metadata": {},
     "output_type": "execute_result"
    }
   ],
   "source": [
    "dir(str)"
   ]
  },
  {
   "cell_type": "code",
   "execution_count": 57,
   "id": "1618a4e4",
   "metadata": {},
   "outputs": [],
   "source": [
    "def student(lastname,*args,**kwargs):\n",
    "    print(args,kwargs)\n",
    "    print(type(args))\n",
    "    print(lastname)"
   ]
  },
  {
   "cell_type": "code",
   "execution_count": 56,
   "id": "189577fe",
   "metadata": {},
   "outputs": [
    {
     "name": "stdout",
     "output_type": "stream",
     "text": [
      "(19, 18.5, 15.5) {'name': 'Matin'}\n",
      "<class 'tuple'>\n",
      "12\n"
     ]
    }
   ],
   "source": [
    "student(12,19, 18.5,15.5,name='Matin')"
   ]
  },
  {
   "cell_type": "code",
   "execution_count": 99,
   "id": "d913b41c",
   "metadata": {},
   "outputs": [],
   "source": [
    "import pdb"
   ]
  },
  {
   "cell_type": "code",
   "execution_count": 100,
   "id": "2e8ca4d3",
   "metadata": {},
   "outputs": [
    {
     "ename": "SyntaxError",
     "evalue": "invalid syntax (1337211791.py, line 1)",
     "output_type": "error",
     "traceback": [
      "\u001b[0;36m  File \u001b[0;32m\"/var/folders/rq/68kglm913gz9zwj18qwmq_000000gn/T/ipykernel_74967/1337211791.py\"\u001b[0;36m, line \u001b[0;32m1\u001b[0m\n\u001b[0;31m    def student(*args,**kwargs,lastname):\u001b[0m\n\u001b[0m                               ^\u001b[0m\n\u001b[0;31mSyntaxError\u001b[0m\u001b[0;31m:\u001b[0m invalid syntax\n"
     ]
    }
   ],
   "source": [
    "def student(*args,**kwargs,lastname):\n",
    "    pdb.set_trace()\n",
    "    print(args,kwargs)\n",
    "    print(type(args))\n",
    "    print(lastname)"
   ]
  },
  {
   "cell_type": "code",
   "execution_count": null,
   "id": "826f3320",
   "metadata": {},
   "outputs": [],
   "source": []
  },
  {
   "cell_type": "code",
   "execution_count": null,
   "id": "1868381c",
   "metadata": {},
   "outputs": [],
   "source": [
    "def foo(a, b=3, *args, **kwargs):"
   ]
  },
  {
   "cell_type": "code",
   "execution_count": 67,
   "id": "7d7b8062",
   "metadata": {},
   "outputs": [],
   "source": [
    "import builtins"
   ]
  },
  {
   "cell_type": "code",
   "execution_count": 68,
   "id": "f3fd5ac8",
   "metadata": {},
   "outputs": [
    {
     "data": {
      "text/plain": [
       "['ArithmeticError',\n",
       " 'AssertionError',\n",
       " 'AttributeError',\n",
       " 'BaseException',\n",
       " 'BlockingIOError',\n",
       " 'BrokenPipeError',\n",
       " 'BufferError',\n",
       " 'BytesWarning',\n",
       " 'ChildProcessError',\n",
       " 'ConnectionAbortedError',\n",
       " 'ConnectionError',\n",
       " 'ConnectionRefusedError',\n",
       " 'ConnectionResetError',\n",
       " 'DeprecationWarning',\n",
       " 'EOFError',\n",
       " 'Ellipsis',\n",
       " 'EnvironmentError',\n",
       " 'Exception',\n",
       " 'False',\n",
       " 'FileExistsError',\n",
       " 'FileNotFoundError',\n",
       " 'FloatingPointError',\n",
       " 'FutureWarning',\n",
       " 'GeneratorExit',\n",
       " 'IOError',\n",
       " 'ImportError',\n",
       " 'ImportWarning',\n",
       " 'IndentationError',\n",
       " 'IndexError',\n",
       " 'InterruptedError',\n",
       " 'IsADirectoryError',\n",
       " 'KeyError',\n",
       " 'KeyboardInterrupt',\n",
       " 'LookupError',\n",
       " 'MemoryError',\n",
       " 'ModuleNotFoundError',\n",
       " 'NameError',\n",
       " 'None',\n",
       " 'NotADirectoryError',\n",
       " 'NotImplemented',\n",
       " 'NotImplementedError',\n",
       " 'OSError',\n",
       " 'OverflowError',\n",
       " 'PendingDeprecationWarning',\n",
       " 'PermissionError',\n",
       " 'ProcessLookupError',\n",
       " 'RecursionError',\n",
       " 'ReferenceError',\n",
       " 'ResourceWarning',\n",
       " 'RuntimeError',\n",
       " 'RuntimeWarning',\n",
       " 'StopAsyncIteration',\n",
       " 'StopIteration',\n",
       " 'SyntaxError',\n",
       " 'SyntaxWarning',\n",
       " 'SystemError',\n",
       " 'SystemExit',\n",
       " 'TabError',\n",
       " 'TimeoutError',\n",
       " 'True',\n",
       " 'TypeError',\n",
       " 'UnboundLocalError',\n",
       " 'UnicodeDecodeError',\n",
       " 'UnicodeEncodeError',\n",
       " 'UnicodeError',\n",
       " 'UnicodeTranslateError',\n",
       " 'UnicodeWarning',\n",
       " 'UserWarning',\n",
       " 'ValueError',\n",
       " 'Warning',\n",
       " 'ZeroDivisionError',\n",
       " '__IPYTHON__',\n",
       " '__build_class__',\n",
       " '__debug__',\n",
       " '__doc__',\n",
       " '__import__',\n",
       " '__loader__',\n",
       " '__name__',\n",
       " '__package__',\n",
       " '__spec__',\n",
       " 'abs',\n",
       " 'all',\n",
       " 'any',\n",
       " 'ascii',\n",
       " 'bin',\n",
       " 'bool',\n",
       " 'breakpoint',\n",
       " 'bytearray',\n",
       " 'bytes',\n",
       " 'callable',\n",
       " 'chr',\n",
       " 'classmethod',\n",
       " 'compile',\n",
       " 'complex',\n",
       " 'copyright',\n",
       " 'credits',\n",
       " 'delattr',\n",
       " 'dict',\n",
       " 'dir',\n",
       " 'display',\n",
       " 'divmod',\n",
       " 'enumerate',\n",
       " 'eval',\n",
       " 'exec',\n",
       " 'execfile',\n",
       " 'filter',\n",
       " 'float',\n",
       " 'format',\n",
       " 'frozenset',\n",
       " 'get_ipython',\n",
       " 'getattr',\n",
       " 'globals',\n",
       " 'hasattr',\n",
       " 'hash',\n",
       " 'help',\n",
       " 'hex',\n",
       " 'id',\n",
       " 'input',\n",
       " 'int',\n",
       " 'isinstance',\n",
       " 'issubclass',\n",
       " 'iter',\n",
       " 'len',\n",
       " 'license',\n",
       " 'list',\n",
       " 'locals',\n",
       " 'map',\n",
       " 'max',\n",
       " 'memoryview',\n",
       " 'min',\n",
       " 'next',\n",
       " 'object',\n",
       " 'oct',\n",
       " 'open',\n",
       " 'ord',\n",
       " 'pow',\n",
       " 'print',\n",
       " 'property',\n",
       " 'range',\n",
       " 'repr',\n",
       " 'reversed',\n",
       " 'round',\n",
       " 'runfile',\n",
       " 'set',\n",
       " 'setattr',\n",
       " 'slice',\n",
       " 'sorted',\n",
       " 'staticmethod',\n",
       " 'str',\n",
       " 'sum',\n",
       " 'super',\n",
       " 'tuple',\n",
       " 'type',\n",
       " 'vars',\n",
       " 'zip']"
      ]
     },
     "execution_count": 68,
     "metadata": {},
     "output_type": "execute_result"
    }
   ],
   "source": [
    "dir(builtins)"
   ]
  },
  {
   "cell_type": "code",
   "execution_count": 69,
   "id": "5561a455",
   "metadata": {},
   "outputs": [
    {
     "data": {
      "text/plain": [
       "['__class__',\n",
       " '__class_getitem__',\n",
       " '__contains__',\n",
       " '__delattr__',\n",
       " '__delitem__',\n",
       " '__dir__',\n",
       " '__doc__',\n",
       " '__eq__',\n",
       " '__format__',\n",
       " '__ge__',\n",
       " '__getattribute__',\n",
       " '__getitem__',\n",
       " '__gt__',\n",
       " '__hash__',\n",
       " '__init__',\n",
       " '__init_subclass__',\n",
       " '__ior__',\n",
       " '__iter__',\n",
       " '__le__',\n",
       " '__len__',\n",
       " '__lt__',\n",
       " '__ne__',\n",
       " '__new__',\n",
       " '__or__',\n",
       " '__reduce__',\n",
       " '__reduce_ex__',\n",
       " '__repr__',\n",
       " '__reversed__',\n",
       " '__ror__',\n",
       " '__setattr__',\n",
       " '__setitem__',\n",
       " '__sizeof__',\n",
       " '__str__',\n",
       " '__subclasshook__',\n",
       " 'clear',\n",
       " 'copy',\n",
       " 'fromkeys',\n",
       " 'get',\n",
       " 'items',\n",
       " 'keys',\n",
       " 'pop',\n",
       " 'popitem',\n",
       " 'setdefault',\n",
       " 'update',\n",
       " 'values']"
      ]
     },
     "execution_count": 69,
     "metadata": {},
     "output_type": "execute_result"
    }
   ],
   "source": [
    "dir(dict)"
   ]
  },
  {
   "cell_type": "code",
   "execution_count": 70,
   "id": "6f24397a",
   "metadata": {},
   "outputs": [],
   "source": [
    "import pandas as pd"
   ]
  },
  {
   "cell_type": "code",
   "execution_count": 75,
   "id": "d588ed6b",
   "metadata": {},
   "outputs": [
    {
     "name": "stdout",
     "output_type": "stream",
     "text": [
      "{'__module__': 'pandas.core.frame', '__annotations__': {'_accessors': 'set[str]', '_hidden_attrs': 'frozenset[str]', '_mgr': 'BlockManager | ArrayManager', '_constructor_sliced': 'type[Series]', '_AXIS_TO_AXIS_NUMBER': 'dict[Axis, int]', 'index': 'Index', 'columns': 'Index'}, '__doc__': '\\n    Two-dimensional, size-mutable, potentially heterogeneous tabular data.\\n\\n    Data structure also contains labeled axes (rows and columns).\\n    Arithmetic operations align on both row and column labels. Can be\\n    thought of as a dict-like container for Series objects. The primary\\n    pandas data structure.\\n\\n    Parameters\\n    ----------\\n    data : ndarray (structured or homogeneous), Iterable, dict, or DataFrame\\n        Dict can contain Series, arrays, constants, dataclass or list-like objects. If\\n        data is a dict, column order follows insertion-order.\\n\\n        .. versionchanged:: 0.25.0\\n           If data is a list of dicts, column order follows insertion-order.\\n\\n    index : Index or array-like\\n        Index to use for resulting frame. Will default to RangeIndex if\\n        no indexing information part of input data and no index provided.\\n    columns : Index or array-like\\n        Column labels to use for resulting frame when data does not have them,\\n        defaulting to RangeIndex(0, 1, 2, ..., n). If data contains column labels,\\n        will perform column selection instead.\\n    dtype : dtype, default None\\n        Data type to force. Only a single dtype is allowed. If None, infer.\\n    copy : bool or None, default None\\n        Copy data from inputs.\\n        For dict data, the default of None behaves like ``copy=True``.  For DataFrame\\n        or 2d ndarray input, the default of None behaves like ``copy=False``.\\n\\n        .. versionchanged:: 1.3.0\\n\\n    See Also\\n    --------\\n    DataFrame.from_records : Constructor from tuples, also record arrays.\\n    DataFrame.from_dict : From dicts of Series, arrays, or dicts.\\n    read_csv : Read a comma-separated values (csv) file into DataFrame.\\n    read_table : Read general delimited file into DataFrame.\\n    read_clipboard : Read text from clipboard into DataFrame.\\n\\n    Examples\\n    --------\\n    Constructing DataFrame from a dictionary.\\n\\n    >>> d = {\\'col1\\': [1, 2], \\'col2\\': [3, 4]}\\n    >>> df = pd.DataFrame(data=d)\\n    >>> df\\n       col1  col2\\n    0     1     3\\n    1     2     4\\n\\n    Notice that the inferred dtype is int64.\\n\\n    >>> df.dtypes\\n    col1    int64\\n    col2    int64\\n    dtype: object\\n\\n    To enforce a single dtype:\\n\\n    >>> df = pd.DataFrame(data=d, dtype=np.int8)\\n    >>> df.dtypes\\n    col1    int8\\n    col2    int8\\n    dtype: object\\n\\n    Constructing DataFrame from numpy ndarray:\\n\\n    >>> df2 = pd.DataFrame(np.array([[1, 2, 3], [4, 5, 6], [7, 8, 9]]),\\n    ...                    columns=[\\'a\\', \\'b\\', \\'c\\'])\\n    >>> df2\\n       a  b  c\\n    0  1  2  3\\n    1  4  5  6\\n    2  7  8  9\\n\\n    Constructing DataFrame from a numpy ndarray that has labeled columns:\\n\\n    >>> data = np.array([(1, 2, 3), (4, 5, 6), (7, 8, 9)],\\n    ...                 dtype=[(\"a\", \"i4\"), (\"b\", \"i4\"), (\"c\", \"i4\")])\\n    >>> df3 = pd.DataFrame(data, columns=[\\'c\\', \\'a\\'])\\n    ...\\n    >>> df3\\n       c  a\\n    0  3  1\\n    1  6  4\\n    2  9  7\\n\\n    Constructing DataFrame from dataclass:\\n\\n    >>> from dataclasses import make_dataclass\\n    >>> Point = make_dataclass(\"Point\", [(\"x\", int), (\"y\", int)])\\n    >>> pd.DataFrame([Point(0, 0), Point(0, 3), Point(2, 3)])\\n       x  y\\n    0  0  0\\n    1  0  3\\n    2  2  3\\n    ', '_internal_names_set': {'_item_cache', '_flags', '__array_interface__', 'columns', '_cache', '__array_struct__', '_mgr', 'index', '_default_fill_value', '_is_copy', '_metadata', '_name', '_subtyp', '_default_kind', '_cacher', '_index'}, '_typ': 'dataframe', '_HANDLED_TYPES': (<class 'pandas.core.series.Series'>, <class 'pandas.core.indexes.base.Index'>, <class 'pandas.core.arrays.base.ExtensionArray'>, <class 'numpy.ndarray'>), '_accessors': {'sparse'}, '_hidden_attrs': frozenset({'get_values', 'tshift', '_AXIS_NUMBERS', '_AXIS_NAMES'}), '_constructor': <property object at 0x7fec02958ea0>, '_constructor_sliced': <class 'pandas.core.series.Series'>, '__init__': <function DataFrame.__init__ at 0x7fec02ae50d0>, 'axes': <property object at 0x7fec02958ef0>, 'shape': <property object at 0x7fec02ab9e50>, '_is_homogeneous_type': <property object at 0x7fec02a8e950>, '_can_fast_transpose': <property object at 0x7fec02ad2220>, '_values': <property object at 0x7fec02ad2860>, '_repr_fits_vertical_': <function DataFrame._repr_fits_vertical_ at 0x7fec02ae5430>, '_repr_fits_horizontal_': <function DataFrame._repr_fits_horizontal_ at 0x7fec02ae54c0>, '_info_repr': <function DataFrame._info_repr at 0x7fec02ae5550>, '__repr__': <function DataFrame.__repr__ at 0x7fec02ae55e0>, '_repr_html_': <function DataFrame._repr_html_ at 0x7fec02ae5670>, 'to_string': <function DataFrame.to_string at 0x7fec02ae5700>, 'style': <property object at 0x7fec02ad2bd0>, 'items': <function DataFrame.items at 0x7fec02ae5820>, 'iteritems': <function DataFrame.iteritems at 0x7fec02ae58b0>, 'iterrows': <function DataFrame.iterrows at 0x7fec02ae5940>, 'itertuples': <function DataFrame.itertuples at 0x7fec02ae59d0>, '__len__': <function DataFrame.__len__ at 0x7fec02ae5a60>, 'dot': <function DataFrame.dot at 0x7fec02ae5af0>, '__matmul__': <function DataFrame.__matmul__ at 0x7fec02ae5b80>, '__rmatmul__': <function DataFrame.__rmatmul__ at 0x7fec02ae5c10>, 'from_dict': <classmethod object at 0x7fec0295b100>, 'to_numpy': <function DataFrame.to_numpy at 0x7fec02ae5d30>, 'to_dict': <function DataFrame.to_dict at 0x7fec02ae5dc0>, 'to_gbq': <function DataFrame.to_gbq at 0x7fec02ae5e50>, 'from_records': <classmethod object at 0x7fec0295b1c0>, 'to_records': <function DataFrame.to_records at 0x7fec02ae5f70>, '_from_arrays': <classmethod object at 0x7fec0295b130>, 'to_stata': <function DataFrame.to_stata at 0x7fec02ae8280>, 'to_feather': <function DataFrame.to_feather at 0x7fec02ae8310>, 'to_markdown': <function DataFrame.to_markdown at 0x7fec02ae83a0>, 'to_parquet': <function DataFrame.to_parquet at 0x7fec02ae8550>, 'to_html': <function DataFrame.to_html at 0x7fec02ae80d0>, 'to_xml': <function DataFrame.to_xml at 0x7fec02ae85e0>, 'info': <function DataFrame.info at 0x7fec02ae8670>, 'memory_usage': <function DataFrame.memory_usage at 0x7fec02ae8430>, 'transpose': <function DataFrame.transpose at 0x7fec02ae8700>, 'T': <property object at 0x7fec02ad2f90>, '_ixs': <function DataFrame._ixs at 0x7fec02ae8820>, '_get_column_array': <function DataFrame._get_column_array at 0x7fec02ae88b0>, '_iter_column_arrays': <function DataFrame._iter_column_arrays at 0x7fec02ae8940>, '__getitem__': <function DataFrame.__getitem__ at 0x7fec02ae89d0>, '_getitem_bool_array': <function DataFrame._getitem_bool_array at 0x7fec02ae8a60>, '_getitem_multilevel': <function DataFrame._getitem_multilevel at 0x7fec02ae8af0>, '_get_value': <function DataFrame._get_value at 0x7fec02ae8b80>, '__setitem__': <function DataFrame.__setitem__ at 0x7fec02ae8c10>, '_setitem_slice': <function DataFrame._setitem_slice at 0x7fec02ae8ca0>, '_setitem_array': <function DataFrame._setitem_array at 0x7fec02ae8d30>, '_iset_not_inplace': <function DataFrame._iset_not_inplace at 0x7fec02ae8dc0>, '_setitem_frame': <function DataFrame._setitem_frame at 0x7fec02ae8e50>, '_set_item_frame_value': <function DataFrame._set_item_frame_value at 0x7fec02ae8ee0>, '_iset_item_mgr': <function DataFrame._iset_item_mgr at 0x7fec02ae8f70>, '_set_item_mgr': <function DataFrame._set_item_mgr at 0x7fec02aec040>, '_iset_item': <function DataFrame._iset_item at 0x7fec02aec0d0>, '_set_item': <function DataFrame._set_item at 0x7fec02aec160>, '_set_value': <function DataFrame._set_value at 0x7fec02aec1f0>, '_ensure_valid_index': <function DataFrame._ensure_valid_index at 0x7fec02aec280>, '_box_col_values': <function DataFrame._box_col_values at 0x7fec02aec310>, '_clear_item_cache': <function DataFrame._clear_item_cache at 0x7fec02aec3a0>, '_get_item_cache': <function DataFrame._get_item_cache at 0x7fec02aec430>, '_reset_cacher': <function DataFrame._reset_cacher at 0x7fec02aec4c0>, '_maybe_cache_changed': <function DataFrame._maybe_cache_changed at 0x7fec02aec550>, 'query': <function DataFrame.query at 0x7fec02aec5e0>, 'eval': <function DataFrame.eval at 0x7fec02aec670>, 'select_dtypes': <function DataFrame.select_dtypes at 0x7fec02aec700>, 'insert': <function DataFrame.insert at 0x7fec02aec790>, 'assign': <function DataFrame.assign at 0x7fec02aec820>, '_sanitize_column': <function DataFrame._sanitize_column at 0x7fec02aec8b0>, '_series': <property object at 0x7fec02ae24f0>, 'lookup': <function DataFrame.lookup at 0x7fec02aec9d0>, '_reindex_axes': <function DataFrame._reindex_axes at 0x7fec02aeca60>, '_reindex_index': <function DataFrame._reindex_index at 0x7fec02aecaf0>, '_reindex_columns': <function DataFrame._reindex_columns at 0x7fec02aecb80>, '_reindex_multi': <function DataFrame._reindex_multi at 0x7fec02aecc10>, 'align': <function DataFrame.align at 0x7fec02aecd30>, 'set_axis': <function DataFrame.set_axis at 0x7fec02aece50>, 'reindex': <function DataFrame.reindex at 0x7fec02aecf70>, 'drop': <function DataFrame.drop at 0x7fec02aee160>, 'rename': <function DataFrame.rename at 0x7fec02aee280>, 'fillna': <function DataFrame.fillna at 0x7fec02aee430>, 'pop': <function DataFrame.pop at 0x7fec02aecca0>, 'replace': <function DataFrame.replace at 0x7fec02aee550>, '_replace_columnwise': <function DataFrame._replace_columnwise at 0x7fec02aee4c0>, 'shift': <function DataFrame.shift at 0x7fec02aee670>, 'set_index': <function DataFrame.set_index at 0x7fec02aee790>, 'reset_index': <function DataFrame.reset_index at 0x7fec02aee8b0>, 'isna': <function DataFrame.isna at 0x7fec02aee940>, 'isnull': <function DataFrame.isnull at 0x7fec02aee9d0>, 'notna': <function DataFrame.notna at 0x7fec02aeea60>, 'notnull': <function DataFrame.notnull at 0x7fec02aeeaf0>, 'dropna': <function DataFrame.dropna at 0x7fec02aeeca0>, 'drop_duplicates': <function DataFrame.drop_duplicates at 0x7fec02aeedc0>, 'duplicated': <function DataFrame.duplicated at 0x7fec02aee5e0>, 'sort_values': <function DataFrame.sort_values at 0x7fec02aeef70>, 'sort_index': <function DataFrame.sort_index at 0x7fec02af30d0>, 'value_counts': <function DataFrame.value_counts at 0x7fec02aeee50>, 'nlargest': <function DataFrame.nlargest at 0x7fec02af3160>, 'nsmallest': <function DataFrame.nsmallest at 0x7fec02af31f0>, 'swaplevel': <function DataFrame.swaplevel at 0x7fec02af3310>, 'reorder_levels': <function DataFrame.reorder_levels at 0x7fec02af3280>, '_cmp_method': <function DataFrame._cmp_method at 0x7fec02af33a0>, '_arith_method': <function DataFrame._arith_method at 0x7fec02af3430>, '_logical_method': <function DataFrame._arith_method at 0x7fec02af3430>, '_dispatch_frame_op': <function DataFrame._dispatch_frame_op at 0x7fec02af34c0>, '_combine_frame': <function DataFrame._combine_frame at 0x7fec02af3550>, '_construct_result': <function DataFrame._construct_result at 0x7fec02af35e0>, '__divmod__': <function DataFrame.__divmod__ at 0x7fec02af3670>, '__rdivmod__': <function DataFrame.__rdivmod__ at 0x7fec02af3700>, 'compare': <function DataFrame.compare at 0x7fec02af3820>, 'combine': <function DataFrame.combine at 0x7fec02af3790>, 'combine_first': <function DataFrame.combine_first at 0x7fec02af38b0>, 'update': <function DataFrame.update at 0x7fec02af3940>, 'groupby': <function DataFrame.groupby at 0x7fec02af39d0>, 'pivot': <function DataFrame.pivot at 0x7fec02af3a60>, 'pivot_table': <function DataFrame.pivot_table at 0x7fec02af3af0>, 'stack': <function DataFrame.stack at 0x7fec02af3b80>, 'explode': <function DataFrame.explode at 0x7fec02af3c10>, 'unstack': <function DataFrame.unstack at 0x7fec02af3ca0>, 'melt': <function DataFrame.melt at 0x7fec02af3d30>, 'diff': <function DataFrame.diff at 0x7fec02af3e50>, '_gotitem': <function DataFrame._gotitem at 0x7fec02af3dc0>, '_agg_summary_and_see_also_doc': '\\nThe aggregation operations are always performed over an axis, either the\\nindex (default) or the column axis. This behavior is different from\\n`numpy` aggregation functions (`mean`, `median`, `prod`, `sum`, `std`,\\n`var`), where the default is to compute the aggregation of the flattened\\narray, e.g., ``numpy.mean(arr_2d)`` as opposed to\\n``numpy.mean(arr_2d, axis=0)``.\\n\\n`agg` is an alias for `aggregate`. Use the alias.\\n\\nSee Also\\n--------\\nDataFrame.apply : Perform any type of operations.\\nDataFrame.transform : Perform transformation type operations.\\ncore.groupby.GroupBy : Perform operations over groups.\\ncore.resample.Resampler : Perform operations over resampled bins.\\ncore.window.Rolling : Perform operations over rolling window.\\ncore.window.Expanding : Perform operations over expanding window.\\ncore.window.ExponentialMovingWindow : Perform operation over exponential weighted\\n    window.\\n', '_agg_examples_doc': '\\nExamples\\n--------\\n>>> df = pd.DataFrame([[1, 2, 3],\\n...                    [4, 5, 6],\\n...                    [7, 8, 9],\\n...                    [np.nan, np.nan, np.nan]],\\n...                   columns=[\\'A\\', \\'B\\', \\'C\\'])\\n\\nAggregate these functions over the rows.\\n\\n>>> df.agg([\\'sum\\', \\'min\\'])\\n        A     B     C\\nsum  12.0  15.0  18.0\\nmin   1.0   2.0   3.0\\n\\nDifferent aggregations per column.\\n\\n>>> df.agg({\\'A\\' : [\\'sum\\', \\'min\\'], \\'B\\' : [\\'min\\', \\'max\\']})\\n        A    B\\nsum  12.0  NaN\\nmin   1.0  2.0\\nmax   NaN  8.0\\n\\nAggregate different functions over the columns and rename the index of the resulting\\nDataFrame.\\n\\n>>> df.agg(x=(\\'A\\', max), y=(\\'B\\', \\'min\\'), z=(\\'C\\', np.mean))\\n     A    B    C\\nx  7.0  NaN  NaN\\ny  NaN  2.0  NaN\\nz  NaN  NaN  6.0\\n\\nAggregate over the columns.\\n\\n>>> df.agg(\"mean\", axis=\"columns\")\\n0    2.0\\n1    5.0\\n2    8.0\\n3    NaN\\ndtype: float64\\n', 'aggregate': <function DataFrame.aggregate at 0x7fec02af3f70>, 'agg': <function DataFrame.aggregate at 0x7fec02af3f70>, 'transform': <function DataFrame.transform at 0x7fec02af7040>, 'apply': <function DataFrame.apply at 0x7fec02af3ee0>, 'applymap': <function DataFrame.applymap at 0x7fec02af70d0>, 'append': <function DataFrame.append at 0x7fec02af7160>, 'join': <function DataFrame.join at 0x7fec02af71f0>, '_join_compat': <function DataFrame._join_compat at 0x7fec02af7280>, 'merge': <function DataFrame.merge at 0x7fec02af7310>, 'round': <function DataFrame.round at 0x7fec02af73a0>, 'corr': <function DataFrame.corr at 0x7fec02af7430>, 'cov': <function DataFrame.cov at 0x7fec02af74c0>, 'corrwith': <function DataFrame.corrwith at 0x7fec02af7550>, 'count': <function DataFrame.count at 0x7fec02af75e0>, '_count_level': <function DataFrame._count_level at 0x7fec02af7670>, '_reduce': <function DataFrame._reduce at 0x7fec02af7700>, 'nunique': <function DataFrame.nunique at 0x7fec02af7790>, 'idxmin': <function DataFrame.idxmin at 0x7fec02af7820>, 'idxmax': <function DataFrame.idxmax at 0x7fec02af78b0>, '_get_agg_axis': <function DataFrame._get_agg_axis at 0x7fec02af7940>, 'mode': <function DataFrame.mode at 0x7fec02af79d0>, 'quantile': <function DataFrame.quantile at 0x7fec02af7a60>, 'asfreq': <function DataFrame.asfreq at 0x7fec02af7b80>, 'resample': <function DataFrame.resample at 0x7fec02af7c10>, 'to_timestamp': <function DataFrame.to_timestamp at 0x7fec02af7af0>, 'to_period': <function DataFrame.to_period at 0x7fec02af7ca0>, 'isin': <function DataFrame.isin at 0x7fec02af7d30>, '_AXIS_ORDERS': ['index', 'columns'], '_AXIS_TO_AXIS_NUMBER': {0: 0, 'index': 0, 'rows': 0, 1: 1, 'columns': 1}, '_AXIS_REVERSED': True, '_AXIS_LEN': 2, '_info_axis_number': 1, '_info_axis_name': 'columns', 'index': <pandas._libs.properties.AxisProperty object at 0x7fec02ae0730>, 'columns': <pandas._libs.properties.AxisProperty object at 0x7fec02ae0d60>, '_AXIS_NUMBERS': <property object at 0x7fec02ae2400>, '_AXIS_NAMES': <property object at 0x7fec02ae26d0>, 'plot': <pandas.core.accessor.CachedAccessor object at 0x7fec02ae0ee0>, 'hist': <function hist_frame at 0x7fec02ab50d0>, 'boxplot': <function boxplot_frame at 0x7fec02ab51f0>, 'sparse': <pandas.core.accessor.CachedAccessor object at 0x7fec02ae0fa0>, '_to_dict_of_blocks': <function DataFrame._to_dict_of_blocks at 0x7fec02af7ee0>, 'values': <property object at 0x7fec02ae2720>, 'ffill': <function DataFrame.ffill at 0x7fec02afa1f0>, 'bfill': <function DataFrame.bfill at 0x7fec02afa3a0>, 'clip': <function DataFrame.clip at 0x7fec02afa550>, 'interpolate': <function DataFrame.interpolate at 0x7fec02afa670>, 'where': <function DataFrame.where at 0x7fec02afa820>, 'mask': <function DataFrame.mask at 0x7fec02afa9d0>, 'any': <function NDFrame._add_numeric_operations.<locals>.any at 0x7fec02afa040>, 'all': <function NDFrame._add_numeric_operations.<locals>.all at 0x7fec02afaa60>, 'mad': <function NDFrame._add_numeric_operations.<locals>.mad at 0x7fec02afaaf0>, 'sem': <function NDFrame._add_numeric_operations.<locals>.sem at 0x7fec02afab80>, 'var': <function NDFrame._add_numeric_operations.<locals>.var at 0x7fec02afac10>, 'std': <function NDFrame._add_numeric_operations.<locals>.std at 0x7fec02afaca0>, 'cummin': <function NDFrame._add_numeric_operations.<locals>.cummin at 0x7fec02afad30>, 'cummax': <function NDFrame._add_numeric_operations.<locals>.cummax at 0x7fec02afadc0>, 'cumsum': <function NDFrame._add_numeric_operations.<locals>.cumsum at 0x7fec02afae50>, 'cumprod': <function NDFrame._add_numeric_operations.<locals>.cumprod at 0x7fec02afaee0>, 'sum': <function NDFrame._add_numeric_operations.<locals>.sum at 0x7fec02afaf70>, 'prod': <function NDFrame._add_numeric_operations.<locals>.prod at 0x7fec02afd040>, 'product': <function NDFrame._add_numeric_operations.<locals>.prod at 0x7fec02afd040>, 'mean': <function NDFrame._add_numeric_operations.<locals>.mean at 0x7fec02afd0d0>, 'skew': <function NDFrame._add_numeric_operations.<locals>.skew at 0x7fec02afd160>, 'kurt': <function NDFrame._add_numeric_operations.<locals>.kurt at 0x7fec02afd1f0>, 'kurtosis': <function NDFrame._add_numeric_operations.<locals>.kurt at 0x7fec02afd1f0>, 'median': <function NDFrame._add_numeric_operations.<locals>.median at 0x7fec02afd280>, 'max': <function NDFrame._add_numeric_operations.<locals>.max at 0x7fec02afd310>, 'min': <function NDFrame._add_numeric_operations.<locals>.min at 0x7fec02afd3a0>, 'add': <function flex_arith_method_FRAME.<locals>.f at 0x7fec029514c0>, 'radd': <function flex_arith_method_FRAME.<locals>.f at 0x7fec02afd430>, 'sub': <function flex_arith_method_FRAME.<locals>.f at 0x7fec02afd4c0>, 'mul': <function flex_arith_method_FRAME.<locals>.f at 0x7fec02afd550>, 'truediv': <function flex_arith_method_FRAME.<locals>.f at 0x7fec02afd5e0>, 'floordiv': <function flex_arith_method_FRAME.<locals>.f at 0x7fec02afd670>, 'mod': <function flex_arith_method_FRAME.<locals>.f at 0x7fec02afd700>, 'pow': <function flex_arith_method_FRAME.<locals>.f at 0x7fec02afd790>, 'rmul': <function flex_arith_method_FRAME.<locals>.f at 0x7fec02afd820>, 'rsub': <function flex_arith_method_FRAME.<locals>.f at 0x7fec02afd8b0>, 'rtruediv': <function flex_arith_method_FRAME.<locals>.f at 0x7fec02afd940>, 'rfloordiv': <function flex_arith_method_FRAME.<locals>.f at 0x7fec02afd9d0>, 'rpow': <function flex_arith_method_FRAME.<locals>.f at 0x7fec02afda60>, 'rmod': <function flex_arith_method_FRAME.<locals>.f at 0x7fec02afdaf0>, 'div': <function flex_arith_method_FRAME.<locals>.f at 0x7fec02afd5e0>, 'rdiv': <function flex_arith_method_FRAME.<locals>.f at 0x7fec02afd940>, 'eq': <function flex_comp_method_FRAME.<locals>.f at 0x7fec02afdb80>, 'ne': <function flex_comp_method_FRAME.<locals>.f at 0x7fec02afdc10>, 'lt': <function flex_comp_method_FRAME.<locals>.f at 0x7fec02afdca0>, 'gt': <function flex_comp_method_FRAME.<locals>.f at 0x7fec02afdd30>, 'le': <function flex_comp_method_FRAME.<locals>.f at 0x7fec02afddc0>, 'ge': <function flex_comp_method_FRAME.<locals>.f at 0x7fec02afde50>, 'multiply': <function flex_arith_method_FRAME.<locals>.f at 0x7fec02afd550>, 'subtract': <function flex_arith_method_FRAME.<locals>.f at 0x7fec02afd4c0>, 'divide': <function flex_arith_method_FRAME.<locals>.f at 0x7fec02afd5e0>}\n"
     ]
    }
   ],
   "source": [
    "print(pd.DataFrame.__dict__)"
   ]
  },
  {
   "cell_type": "code",
   "execution_count": 73,
   "id": "cdf7ed68",
   "metadata": {},
   "outputs": [
    {
     "ename": "SyntaxError",
     "evalue": "invalid syntax (2673014410.py, line 1)",
     "output_type": "error",
     "traceback": [
      "\u001b[0;36m  File \u001b[0;32m\"/var/folders/rq/68kglm913gz9zwj18qwmq_000000gn/T/ipykernel_74967/2673014410.py\"\u001b[0;36m, line \u001b[0;32m1\u001b[0m\n\u001b[0;31m    python -m pdb my_script.py\u001b[0m\n\u001b[0m              ^\u001b[0m\n\u001b[0;31mSyntaxError\u001b[0m\u001b[0;31m:\u001b[0m invalid syntax\n"
     ]
    }
   ],
   "source": [
    "python -m pdb my_script.py"
   ]
  },
  {
   "cell_type": "code",
   "execution_count": 86,
   "id": "2ae68c90",
   "metadata": {},
   "outputs": [],
   "source": [
    "from pprint import pprint"
   ]
  },
  {
   "cell_type": "code",
   "execution_count": 88,
   "id": "c926b715",
   "metadata": {},
   "outputs": [
    {
     "data": {
      "text/plain": [
       "['__annotations__',\n",
       " '__call__',\n",
       " '__class__',\n",
       " '__closure__',\n",
       " '__code__',\n",
       " '__defaults__',\n",
       " '__delattr__',\n",
       " '__dict__',\n",
       " '__dir__',\n",
       " '__doc__',\n",
       " '__eq__',\n",
       " '__format__',\n",
       " '__ge__',\n",
       " '__get__',\n",
       " '__getattribute__',\n",
       " '__globals__',\n",
       " '__gt__',\n",
       " '__hash__',\n",
       " '__init__',\n",
       " '__init_subclass__',\n",
       " '__kwdefaults__',\n",
       " '__le__',\n",
       " '__lt__',\n",
       " '__module__',\n",
       " '__name__',\n",
       " '__ne__',\n",
       " '__new__',\n",
       " '__qualname__',\n",
       " '__reduce__',\n",
       " '__reduce_ex__',\n",
       " '__repr__',\n",
       " '__setattr__',\n",
       " '__sizeof__',\n",
       " '__str__',\n",
       " '__subclasshook__']"
      ]
     },
     "execution_count": 88,
     "metadata": {},
     "output_type": "execute_result"
    }
   ],
   "source": [
    "dir(pprint)"
   ]
  },
  {
   "cell_type": "code",
   "execution_count": 98,
   "id": "b717c66a",
   "metadata": {},
   "outputs": [
    {
     "name": "stdout",
     "output_type": "stream",
     "text": [
      "T ---> <property object at 0x7fec02ad2f90>\n",
      "----------------------------------------------------------------------------------------------------\n",
      "_AXIS_NAMES ---> <property object at 0x7fec02ae26d0>\n",
      "----------------------------------------------------------------------------------------------------\n",
      "_AXIS_NUMBERS ---> <property object at 0x7fec02ae2400>\n",
      "----------------------------------------------------------------------------------------------------\n",
      "_can_fast_transpose ---> <property object at 0x7fec02ad2220>\n",
      "----------------------------------------------------------------------------------------------------\n",
      "_constructor ---> <property object at 0x7fec02958ea0>\n",
      "----------------------------------------------------------------------------------------------------\n",
      "_data ---> <property object at 0x7fec02a0b8b0>\n",
      "----------------------------------------------------------------------------------------------------\n",
      "_info_axis ---> <property object at 0x7fec02a54950>\n",
      "----------------------------------------------------------------------------------------------------\n",
      "_is_homogeneous_type ---> <property object at 0x7fec02a8e950>\n",
      "----------------------------------------------------------------------------------------------------\n",
      "_is_mixed_type ---> <property object at 0x7fec02a5f360>\n",
      "----------------------------------------------------------------------------------------------------\n",
      "_is_view ---> <property object at 0x7fec02a5a270>\n",
      "----------------------------------------------------------------------------------------------------\n",
      "_series ---> <property object at 0x7fec02ae24f0>\n",
      "----------------------------------------------------------------------------------------------------\n",
      "_stat_axis ---> <property object at 0x7fec02a549a0>\n",
      "----------------------------------------------------------------------------------------------------\n",
      "_values ---> <property object at 0x7fec02ad2860>\n",
      "----------------------------------------------------------------------------------------------------\n",
      "at ---> <property object at 0x7febffb0d310>\n",
      "----------------------------------------------------------------------------------------------------\n",
      "attrs ---> <property object at 0x7fec02a0b900>\n",
      "----------------------------------------------------------------------------------------------------\n",
      "axes ---> <property object at 0x7fec02958ef0>\n",
      "----------------------------------------------------------------------------------------------------\n",
      "dtypes ---> <property object at 0x7fec02a5f450>\n",
      "----------------------------------------------------------------------------------------------------\n",
      "empty ---> <property object at 0x7fec02a5a130>\n",
      "----------------------------------------------------------------------------------------------------\n",
      "flags ---> <property object at 0x7febffb85ae0>\n",
      "----------------------------------------------------------------------------------------------------\n",
      "iat ---> <property object at 0x7febffb0d360>\n",
      "----------------------------------------------------------------------------------------------------\n",
      "iloc ---> <property object at 0x7febffb0d220>\n",
      "----------------------------------------------------------------------------------------------------\n",
      "loc ---> <property object at 0x7febffb0d2c0>\n",
      "----------------------------------------------------------------------------------------------------\n",
      "ndim ---> <property object at 0x7fec02a54f90>\n",
      "----------------------------------------------------------------------------------------------------\n",
      "shape ---> <property object at 0x7fec02ab9e50>\n",
      "----------------------------------------------------------------------------------------------------\n",
      "size ---> <property object at 0x7fec02a5a040>\n",
      "----------------------------------------------------------------------------------------------------\n",
      "style ---> <property object at 0x7fec02ad2bd0>\n",
      "----------------------------------------------------------------------------------------------------\n",
      "values ---> <property object at 0x7fec02ae2720>\n",
      "----------------------------------------------------------------------------------------------------\n"
     ]
    }
   ],
   "source": [
    "for att in dir(pd.DataFrame):\n",
    "    if isinstance(getattr(pd.DataFrame,att), property):\n",
    "    \n",
    "        print(att,'--->', getattr(pd.DataFrame,att))\n",
    "        print('-'*100)"
   ]
  },
  {
   "cell_type": "code",
   "execution_count": 90,
   "id": "9aa77af5",
   "metadata": {},
   "outputs": [],
   "source": [
    "import pdb"
   ]
  },
  {
   "cell_type": "code",
   "execution_count": 91,
   "id": "2bd3b9a3",
   "metadata": {},
   "outputs": [
    {
     "data": {
      "text/plain": [
       "['Pdb',\n",
       " 'Restart',\n",
       " 'TESTCMD',\n",
       " '__all__',\n",
       " '__builtins__',\n",
       " '__cached__',\n",
       " '__doc__',\n",
       " '__file__',\n",
       " '__loader__',\n",
       " '__name__',\n",
       " '__package__',\n",
       " '__spec__',\n",
       " '_rstr',\n",
       " '_usage',\n",
       " 'bdb',\n",
       " 'cmd',\n",
       " 'code',\n",
       " 'dis',\n",
       " 'find_function',\n",
       " 'getsourcelines',\n",
       " 'glob',\n",
       " 'help',\n",
       " 'inspect',\n",
       " 'io',\n",
       " 'lasti2lineno',\n",
       " 'line_prefix',\n",
       " 'linecache',\n",
       " 'main',\n",
       " 'os',\n",
       " 'pm',\n",
       " 'post_mortem',\n",
       " 'pprint',\n",
       " 're',\n",
       " 'run',\n",
       " 'runcall',\n",
       " 'runctx',\n",
       " 'runeval',\n",
       " 'set_trace',\n",
       " 'signal',\n",
       " 'sys',\n",
       " 'test',\n",
       " 'tokenize',\n",
       " 'traceback']"
      ]
     },
     "execution_count": 91,
     "metadata": {},
     "output_type": "execute_result"
    }
   ],
   "source": [
    "dir(pdb)"
   ]
  },
  {
   "cell_type": "code",
   "execution_count": 101,
   "id": "f09f0019",
   "metadata": {},
   "outputs": [],
   "source": [
    "def add(a):\n",
    "    pdb.set_trace()\n",
    "    print(a/0)\n",
    "   "
   ]
  },
  {
   "cell_type": "code",
   "execution_count": null,
   "id": "aeda83fb",
   "metadata": {},
   "outputs": [
    {
     "name": "stdout",
     "output_type": "stream",
     "text": [
      "> \u001b[0;32m/var/folders/rq/68kglm913gz9zwj18qwmq_000000gn/T/ipykernel_74967/3554150488.py\u001b[0m(3)\u001b[0;36madd\u001b[0;34m()\u001b[0m\n",
      "\u001b[0;32m      1 \u001b[0;31m\u001b[0;32mdef\u001b[0m \u001b[0madd\u001b[0m\u001b[0;34m(\u001b[0m\u001b[0ma\u001b[0m\u001b[0;34m)\u001b[0m\u001b[0;34m:\u001b[0m\u001b[0;34m\u001b[0m\u001b[0;34m\u001b[0m\u001b[0m\n",
      "\u001b[0m\u001b[0;32m      2 \u001b[0;31m    \u001b[0mpdb\u001b[0m\u001b[0;34m.\u001b[0m\u001b[0mset_trace\u001b[0m\u001b[0;34m(\u001b[0m\u001b[0;34m)\u001b[0m\u001b[0;34m\u001b[0m\u001b[0;34m\u001b[0m\u001b[0m\n",
      "\u001b[0m\u001b[0;32m----> 3 \u001b[0;31m    \u001b[0mprint\u001b[0m\u001b[0;34m(\u001b[0m\u001b[0ma\u001b[0m\u001b[0;34m/\u001b[0m\u001b[0;36m0\u001b[0m\u001b[0;34m)\u001b[0m\u001b[0;34m\u001b[0m\u001b[0;34m\u001b[0m\u001b[0m\n",
      "\u001b[0m\u001b[0;32m      4 \u001b[0;31m\u001b[0;34m\u001b[0m\u001b[0m\n",
      "\u001b[0m\n",
      "ipdb> a\n",
      "a = 5\n",
      "ipdb> w\n",
      "\u001b[0;31m    [... skipping 21 hidden frame(s)]\u001b[0m\n",
      "\n",
      "  \u001b[0;32m/var/folders/rq/68kglm913gz9zwj18qwmq_000000gn/T/ipykernel_74967/310587333.py\u001b[0m(1)\u001b[0;36m<module>\u001b[0;34m()\u001b[0m\n",
      "\u001b[0;32m----> 1 \u001b[0;31m\u001b[0madd\u001b[0m\u001b[0;34m(\u001b[0m\u001b[0;36m5\u001b[0m\u001b[0;34m)\u001b[0m\u001b[0;34m\u001b[0m\u001b[0;34m\u001b[0m\u001b[0m\n",
      "\u001b[0m\n",
      "> \u001b[0;32m/var/folders/rq/68kglm913gz9zwj18qwmq_000000gn/T/ipykernel_74967/3554150488.py\u001b[0m(3)\u001b[0;36madd\u001b[0;34m()\u001b[0m\n",
      "\u001b[0;32m      1 \u001b[0;31m\u001b[0;32mdef\u001b[0m \u001b[0madd\u001b[0m\u001b[0;34m(\u001b[0m\u001b[0ma\u001b[0m\u001b[0;34m)\u001b[0m\u001b[0;34m:\u001b[0m\u001b[0;34m\u001b[0m\u001b[0;34m\u001b[0m\u001b[0m\n",
      "\u001b[0m\u001b[0;32m      2 \u001b[0;31m    \u001b[0mpdb\u001b[0m\u001b[0;34m.\u001b[0m\u001b[0mset_trace\u001b[0m\u001b[0;34m(\u001b[0m\u001b[0;34m)\u001b[0m\u001b[0;34m\u001b[0m\u001b[0;34m\u001b[0m\u001b[0m\n",
      "\u001b[0m\u001b[0;32m----> 3 \u001b[0;31m    \u001b[0mprint\u001b[0m\u001b[0;34m(\u001b[0m\u001b[0ma\u001b[0m\u001b[0;34m/\u001b[0m\u001b[0;36m0\u001b[0m\u001b[0;34m)\u001b[0m\u001b[0;34m\u001b[0m\u001b[0;34m\u001b[0m\u001b[0m\n",
      "\u001b[0m\u001b[0;32m      4 \u001b[0;31m\u001b[0;34m\u001b[0m\u001b[0m\n",
      "\u001b[0m\n",
      "ipdb> n\n",
      "ZeroDivisionError: division by zero\n",
      "> \u001b[0;32m/var/folders/rq/68kglm913gz9zwj18qwmq_000000gn/T/ipykernel_74967/3554150488.py\u001b[0m(3)\u001b[0;36madd\u001b[0;34m()\u001b[0m\n",
      "\u001b[0;32m      1 \u001b[0;31m\u001b[0;32mdef\u001b[0m \u001b[0madd\u001b[0m\u001b[0;34m(\u001b[0m\u001b[0ma\u001b[0m\u001b[0;34m)\u001b[0m\u001b[0;34m:\u001b[0m\u001b[0;34m\u001b[0m\u001b[0;34m\u001b[0m\u001b[0m\n",
      "\u001b[0m\u001b[0;32m      2 \u001b[0;31m    \u001b[0mpdb\u001b[0m\u001b[0;34m.\u001b[0m\u001b[0mset_trace\u001b[0m\u001b[0;34m(\u001b[0m\u001b[0;34m)\u001b[0m\u001b[0;34m\u001b[0m\u001b[0;34m\u001b[0m\u001b[0m\n",
      "\u001b[0m\u001b[0;32m----> 3 \u001b[0;31m    \u001b[0mprint\u001b[0m\u001b[0;34m(\u001b[0m\u001b[0ma\u001b[0m\u001b[0;34m/\u001b[0m\u001b[0;36m0\u001b[0m\u001b[0;34m)\u001b[0m\u001b[0;34m\u001b[0m\u001b[0;34m\u001b[0m\u001b[0m\n",
      "\u001b[0m\u001b[0;32m      4 \u001b[0;31m\u001b[0;34m\u001b[0m\u001b[0m\n",
      "\u001b[0m\n",
      "ipdb> s\n",
      "--Return--\n",
      "None\n",
      "> \u001b[0;32m/var/folders/rq/68kglm913gz9zwj18qwmq_000000gn/T/ipykernel_74967/3554150488.py\u001b[0m(3)\u001b[0;36madd\u001b[0;34m()\u001b[0m\n",
      "\u001b[0;32m      1 \u001b[0;31m\u001b[0;32mdef\u001b[0m \u001b[0madd\u001b[0m\u001b[0;34m(\u001b[0m\u001b[0ma\u001b[0m\u001b[0;34m)\u001b[0m\u001b[0;34m:\u001b[0m\u001b[0;34m\u001b[0m\u001b[0;34m\u001b[0m\u001b[0m\n",
      "\u001b[0m\u001b[0;32m      2 \u001b[0;31m    \u001b[0mpdb\u001b[0m\u001b[0;34m.\u001b[0m\u001b[0mset_trace\u001b[0m\u001b[0;34m(\u001b[0m\u001b[0;34m)\u001b[0m\u001b[0;34m\u001b[0m\u001b[0;34m\u001b[0m\u001b[0m\n",
      "\u001b[0m\u001b[0;32m----> 3 \u001b[0;31m    \u001b[0mprint\u001b[0m\u001b[0;34m(\u001b[0m\u001b[0ma\u001b[0m\u001b[0;34m/\u001b[0m\u001b[0;36m0\u001b[0m\u001b[0;34m)\u001b[0m\u001b[0;34m\u001b[0m\u001b[0;34m\u001b[0m\u001b[0m\n",
      "\u001b[0m\u001b[0;32m      4 \u001b[0;31m\u001b[0;34m\u001b[0m\u001b[0m\n",
      "\u001b[0m\n"
     ]
    }
   ],
   "source": [
    "add(5)"
   ]
  },
  {
   "cell_type": "code",
   "execution_count": null,
   "id": "96e80caf",
   "metadata": {},
   "outputs": [],
   "source": []
  },
  {
   "cell_type": "code",
   "execution_count": null,
   "id": "80912bd6",
   "metadata": {},
   "outputs": [],
   "source": []
  },
  {
   "cell_type": "code",
   "execution_count": null,
   "id": "9e9be8fb",
   "metadata": {},
   "outputs": [],
   "source": []
  },
  {
   "cell_type": "code",
   "execution_count": null,
   "id": "88bc39e9",
   "metadata": {},
   "outputs": [],
   "source": []
  }
 ],
 "metadata": {
  "kernelspec": {
   "display_name": "Python 3 (ipykernel)",
   "language": "python",
   "name": "python3"
  },
  "language_info": {
   "codemirror_mode": {
    "name": "ipython",
    "version": 3
   },
   "file_extension": ".py",
   "mimetype": "text/x-python",
   "name": "python",
   "nbconvert_exporter": "python",
   "pygments_lexer": "ipython3",
   "version": "3.9.7"
  }
 },
 "nbformat": 4,
 "nbformat_minor": 5
}
